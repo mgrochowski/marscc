{
 "cells": [
  {
   "cell_type": "markdown",
   "id": "6403e096-8aee-4c89-8791-b666f7bca434",
   "metadata": {
    "id": "AJE6PCpDtli2"
   },
   "source": [
    "# Configuration"
   ]
  },
  {
   "cell_type": "code",
   "execution_count": null,
   "id": "404bfeb4-651a-4410-a716-ae41961fecfc",
   "metadata": {},
   "outputs": [],
   "source": [
    "from app import App\n",
    "\n",
    "image_dir = 'data/images/'                   # input images\n",
    "annotations_dir = 'data/annotations/'        # images with annotations\n",
    "\n",
    "model_name = 'pspnet_50'        # choose model: 'unet', 'vgg_unet', 'vgg_unet2', 'pspnet_50'\n",
    "\n",
    "iou_threshold = 0.03          \n",
    "min_confidence = 0.4\n",
    "batch_size = 4\n",
    "\n",
    "app = App(model_name=model_name, iou_threshold=iou_threshold, min_confidence=min_confidence, batch_size=batch_size, image_dir=image_dir, annotations_dir=annotations_dir)\n",
    "app.print_configuration()"
   ]
  },
  {
   "cell_type": "markdown",
   "id": "16282335-ca4c-4bc4-ab7c-1f9c02783d56",
   "metadata": {
    "id": "ie0DQriGtAYG"
   },
   "source": [
    "# Run detection only (annotations not required)"
   ]
  },
  {
   "cell_type": "code",
   "execution_count": null,
   "id": "78bfdbd3-abcd-4aaa-ad35-bf8f368045be",
   "metadata": {},
   "outputs": [],
   "source": [
    "app.run_detection()"
   ]
  },
  {
   "cell_type": "markdown",
   "id": "26dc5e8d-35dd-40bc-a218-eb885e47300d",
   "metadata": {},
   "source": [
    "# Run detection and evaluation"
   ]
  },
  {
   "cell_type": "code",
   "execution_count": null,
   "id": "369492f3-1fe8-4906-a9c9-7b34b6acbbcf",
   "metadata": {},
   "outputs": [],
   "source": [
    "app.run_evaluation()"
   ]
  },
  {
   "cell_type": "markdown",
   "id": "5f333a47-7a9e-4f4f-8566-c0fc7cc85cf4",
   "metadata": {},
   "source": [
    "# Detailed view on missclassified objects"
   ]
  },
  {
   "cell_type": "markdown",
   "id": "118206de-3ceb-4ece-b751-a8fd98fd7ae2",
   "metadata": {},
   "source": [
    "## Errors\n"
   ]
  },
  {
   "cell_type": "code",
   "execution_count": null,
   "id": "7f095570-c62f-4e8c-bb2b-500be4def03d",
   "metadata": {},
   "outputs": [],
   "source": [
    "app.report_detections(kind=['Errors'])"
   ]
  },
  {
   "cell_type": "markdown",
   "id": "f2bb4cdd-d6a6-4e9f-be0e-be2bcc160476",
   "metadata": {},
   "source": [
    "## False detections"
   ]
  },
  {
   "cell_type": "code",
   "execution_count": null,
   "id": "bfd1f83c-2e48-412e-8109-cd3cd2b2e304",
   "metadata": {},
   "outputs": [],
   "source": [
    "app.report_detections(kind=['False detections'])"
   ]
  },
  {
   "cell_type": "markdown",
   "id": "80af55eb-1c0a-42dc-ba75-10defd25226c",
   "metadata": {},
   "source": [
    "## Missing detections"
   ]
  },
  {
   "cell_type": "code",
   "execution_count": null,
   "id": "7a06a011-7f59-4d82-b5ca-3016711c63ad",
   "metadata": {},
   "outputs": [],
   "source": [
    "app.report_detections(kind=['Missing detections'])"
   ]
  },
  {
   "cell_type": "markdown",
   "id": "45af8b25-a01e-4958-8ba3-699164487d44",
   "metadata": {},
   "source": [
    "## To small IOU"
   ]
  },
  {
   "cell_type": "code",
   "execution_count": null,
   "id": "9948a231-2985-4754-bcfd-dca6e8c6e800",
   "metadata": {},
   "outputs": [],
   "source": [
    "app.report_detections(kind=['To small IOU'])"
   ]
  }
 ],
 "metadata": {
  "kernelspec": {
   "display_name": "Python 3 (ipykernel)",
   "language": "python",
   "name": "python3"
  },
  "language_info": {
   "codemirror_mode": {
    "name": "ipython",
    "version": 3
   },
   "file_extension": ".py",
   "mimetype": "text/x-python",
   "name": "python",
   "nbconvert_exporter": "python",
   "pygments_lexer": "ipython3",
   "version": "3.9.7"
  }
 },
 "nbformat": 4,
 "nbformat_minor": 5
}
